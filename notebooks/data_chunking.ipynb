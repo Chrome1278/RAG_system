{
 "cells": [
  {
   "cell_type": "code",
   "execution_count": 15,
   "id": "959a3e79-954f-455d-ba70-676bbd8cb586",
   "metadata": {},
   "outputs": [],
   "source": [
    "import re\n",
    "import pandas as pd\n",
    "from sentence_transformers import SentenceTransformer\n",
    "import faiss\n",
    "from langchain.text_splitter import RecursiveCharacterTextSplitter"
   ]
  },
  {
   "cell_type": "code",
   "execution_count": 3,
   "id": "5eda9ab9-07ac-4f8a-9dd1-fe2a28fa6319",
   "metadata": {},
   "outputs": [
    {
     "data": {
      "text/html": [
       "<div>\n",
       "<style scoped>\n",
       "    .dataframe tbody tr th:only-of-type {\n",
       "        vertical-align: middle;\n",
       "    }\n",
       "\n",
       "    .dataframe tbody tr th {\n",
       "        vertical-align: top;\n",
       "    }\n",
       "\n",
       "    .dataframe thead th {\n",
       "        text-align: right;\n",
       "    }\n",
       "</style>\n",
       "<table border=\"1\" class=\"dataframe\">\n",
       "  <thead>\n",
       "    <tr style=\"text-align: right;\">\n",
       "      <th></th>\n",
       "      <th>Release Year</th>\n",
       "      <th>Title</th>\n",
       "      <th>Origin/Ethnicity</th>\n",
       "      <th>Director</th>\n",
       "      <th>Cast</th>\n",
       "      <th>Genre</th>\n",
       "      <th>Wiki Page</th>\n",
       "      <th>Plot</th>\n",
       "      <th>PlotSummary</th>\n",
       "      <th>movie_text</th>\n",
       "    </tr>\n",
       "  </thead>\n",
       "  <tbody>\n",
       "    <tr>\n",
       "      <th>0</th>\n",
       "      <td>1907</td>\n",
       "      <td>Daniel Boone</td>\n",
       "      <td>American</td>\n",
       "      <td>Wallace McCutcheon and Ediwin S. Porter</td>\n",
       "      <td>William Craven, Florence Lawrence</td>\n",
       "      <td>biographical</td>\n",
       "      <td>https://en.wikipedia.org/wiki/Daniel_Boone_(19...</td>\n",
       "      <td>Boone's daughter befriends an Indian maiden as...</td>\n",
       "      <td>Boone's cabin is attacked by the Indians, who ...</td>\n",
       "      <td>Title: Daniel Boone\\nRelease Year: 1907\\nDirec...</td>\n",
       "    </tr>\n",
       "    <tr>\n",
       "      <th>1</th>\n",
       "      <td>1908</td>\n",
       "      <td>The Adventures of Dollie</td>\n",
       "      <td>American</td>\n",
       "      <td>D. W. Griffith</td>\n",
       "      <td>Arthur V. Johnson, Linda Arvidson</td>\n",
       "      <td>drama</td>\n",
       "      <td>https://en.wikipedia.org/wiki/The_Adventures_o...</td>\n",
       "      <td>On a beautiful summer day a father and mother ...</td>\n",
       "      <td>A father and mother take their daughter Dollie...</td>\n",
       "      <td>Title: The Adventures of Dollie\\nRelease Year:...</td>\n",
       "    </tr>\n",
       "    <tr>\n",
       "      <th>2</th>\n",
       "      <td>1908</td>\n",
       "      <td>The Black Viper</td>\n",
       "      <td>American</td>\n",
       "      <td>D. W. Griffith</td>\n",
       "      <td>D. W. Griffith</td>\n",
       "      <td>drama</td>\n",
       "      <td>https://en.wikipedia.org/wiki/The_Black_Viper</td>\n",
       "      <td>A thug accosts a girl as she leaves her workpl...</td>\n",
       "      <td>A thug accosts a girl as she leaves her workpl...</td>\n",
       "      <td>Title: The Black Viper\\nRelease Year: 1908\\nDi...</td>\n",
       "    </tr>\n",
       "    <tr>\n",
       "      <th>3</th>\n",
       "      <td>1908</td>\n",
       "      <td>The Call of the Wild</td>\n",
       "      <td>American</td>\n",
       "      <td>D. W. Griffith</td>\n",
       "      <td>Charles Inslee</td>\n",
       "      <td>adventure</td>\n",
       "      <td>https://en.wikipedia.org/wiki/The_Call_of_the_...</td>\n",
       "      <td>A white girl (Florence Lawrence) rejects a pro...</td>\n",
       "      <td>Florence Lawrence was already the most popular...</td>\n",
       "      <td>Title: The Call of the Wild\\nRelease Year: 190...</td>\n",
       "    </tr>\n",
       "    <tr>\n",
       "      <th>4</th>\n",
       "      <td>1908</td>\n",
       "      <td>A Christmas Carol</td>\n",
       "      <td>American</td>\n",
       "      <td>Unknown</td>\n",
       "      <td>Tom Ricketts</td>\n",
       "      <td>drama</td>\n",
       "      <td>https://en.wikipedia.org/wiki/A_Christmas_Caro...</td>\n",
       "      <td>No prints of the first American film adaptatio...</td>\n",
       "      <td>No prints of the first American film adaptatio...</td>\n",
       "      <td>Title: A Christmas Carol\\nRelease Year: 1908\\n...</td>\n",
       "    </tr>\n",
       "  </tbody>\n",
       "</table>\n",
       "</div>"
      ],
      "text/plain": [
       "   Release Year                     Title Origin/Ethnicity  \\\n",
       "0          1907              Daniel Boone         American   \n",
       "1          1908  The Adventures of Dollie         American   \n",
       "2          1908           The Black Viper         American   \n",
       "3          1908      The Call of the Wild         American   \n",
       "4          1908         A Christmas Carol         American   \n",
       "\n",
       "                                  Director                               Cast  \\\n",
       "0  Wallace McCutcheon and Ediwin S. Porter  William Craven, Florence Lawrence   \n",
       "1                           D. W. Griffith  Arthur V. Johnson, Linda Arvidson   \n",
       "2                           D. W. Griffith                     D. W. Griffith   \n",
       "3                           D. W. Griffith                     Charles Inslee   \n",
       "4                                  Unknown                       Tom Ricketts   \n",
       "\n",
       "          Genre                                          Wiki Page  \\\n",
       "0  biographical  https://en.wikipedia.org/wiki/Daniel_Boone_(19...   \n",
       "1         drama  https://en.wikipedia.org/wiki/The_Adventures_o...   \n",
       "2         drama      https://en.wikipedia.org/wiki/The_Black_Viper   \n",
       "3     adventure  https://en.wikipedia.org/wiki/The_Call_of_the_...   \n",
       "4         drama  https://en.wikipedia.org/wiki/A_Christmas_Caro...   \n",
       "\n",
       "                                                Plot  \\\n",
       "0  Boone's daughter befriends an Indian maiden as...   \n",
       "1  On a beautiful summer day a father and mother ...   \n",
       "2  A thug accosts a girl as she leaves her workpl...   \n",
       "3  A white girl (Florence Lawrence) rejects a pro...   \n",
       "4  No prints of the first American film adaptatio...   \n",
       "\n",
       "                                         PlotSummary  \\\n",
       "0  Boone's cabin is attacked by the Indians, who ...   \n",
       "1  A father and mother take their daughter Dollie...   \n",
       "2  A thug accosts a girl as she leaves her workpl...   \n",
       "3  Florence Lawrence was already the most popular...   \n",
       "4  No prints of the first American film adaptatio...   \n",
       "\n",
       "                                          movie_text  \n",
       "0  Title: Daniel Boone\\nRelease Year: 1907\\nDirec...  \n",
       "1  Title: The Adventures of Dollie\\nRelease Year:...  \n",
       "2  Title: The Black Viper\\nRelease Year: 1908\\nDi...  \n",
       "3  Title: The Call of the Wild\\nRelease Year: 190...  \n",
       "4  Title: A Christmas Carol\\nRelease Year: 1908\\n...  "
      ]
     },
     "execution_count": 3,
     "metadata": {},
     "output_type": "execute_result"
    }
   ],
   "source": [
    "movies_df = pd.read_csv('./data/movies_data.csv')\n",
    "movies_df.head()"
   ]
  },
  {
   "cell_type": "code",
   "execution_count": 9,
   "id": "ef111a8f-9f98-44d5-85b0-8fce436bf934",
   "metadata": {},
   "outputs": [],
   "source": [
    "splitter = RecursiveCharacterTextSplitter(\n",
    "    chunk_size=400,\n",
    "    chunk_overlap=50,\n",
    "    length_function=len,\n",
    "    separators=[\"\\n\\n\", \"\\n\", \". \", \" \", \"\"]\n",
    ")"
   ]
  },
  {
   "cell_type": "code",
   "execution_count": 13,
   "id": "ea6f8cdf-409d-4ea0-a3e1-8237ac3b32b0",
   "metadata": {},
   "outputs": [
    {
     "name": "stdout",
     "output_type": "stream",
     "text": [
      "Total chunks: 61107\n"
     ]
    }
   ],
   "source": [
    "chunks = []\n",
    "chunk_source = []  # Для отслеживания источника чанка\n",
    "\n",
    "\n",
    "for idx, row in movies_df.iterrows():\n",
    "    movie_chunks = splitter.split_text(row['movie_text'])\n",
    "    chunks.extend(movie_chunks)\n",
    "    chunk_source.extend([idx] * len(movie_chunks))\n",
    "\n",
    "print(f\"Total chunks: {len(chunks)}\")"
   ]
  },
  {
   "cell_type": "code",
   "execution_count": 23,
   "id": "f897d14b-cb07-4c3f-912b-a827f277df16",
   "metadata": {},
   "outputs": [],
   "source": [
    "model = SentenceTransformer('multi-qa-mpnet-base-dot-v1')"
   ]
  },
  {
   "cell_type": "code",
   "execution_count": null,
   "id": "25a437ac-24a1-4180-a413-f240c3d9dcf2",
   "metadata": {},
   "outputs": [],
   "source": []
  },
  {
   "cell_type": "code",
   "execution_count": 35,
   "id": "33cf2469-9e28-4af3-a675-c9723979c15e",
   "metadata": {},
   "outputs": [
    {
     "data": {
      "application/vnd.jupyter.widget-view+json": {
       "model_id": "8a4a64b39ee348f988de8e8d0b92732a",
       "version_major": 2,
       "version_minor": 0
      },
      "text/plain": [
       "Batches:   0%|          | 0/1910 [00:00<?, ?it/s]"
      ]
     },
     "metadata": {},
     "output_type": "display_data"
    }
   ],
   "source": [
    "embeddings = model.encode(chunks, show_progress_bar=True)"
   ]
  },
  {
   "cell_type": "code",
   "execution_count": 36,
   "id": "934b093e-47cc-4934-bcf9-bec84b016db6",
   "metadata": {},
   "outputs": [
    {
     "data": {
      "text/plain": [
       "(768,)"
      ]
     },
     "execution_count": 36,
     "metadata": {},
     "output_type": "execute_result"
    }
   ],
   "source": [
    "embeddings[0].shape"
   ]
  },
  {
   "cell_type": "code",
   "execution_count": 37,
   "id": "ddad8122-28e8-4b73-aa1a-bb80637243f9",
   "metadata": {},
   "outputs": [],
   "source": [
    "dimension = embeddings.shape[1]\n",
    "index = faiss.IndexFlatL2(dimension)\n",
    "index.add(embeddings)"
   ]
  },
  {
   "cell_type": "code",
   "execution_count": 46,
   "id": "128b6664-c120-416a-b0f0-0001038ebcb9",
   "metadata": {},
   "outputs": [],
   "source": [
    "faiss.write_index(index, \"./data/movies_info.index\")\n"
   ]
  },
  {
   "cell_type": "code",
   "execution_count": 49,
   "id": "603cd2d8-fbd9-486a-92a5-312de8e46050",
   "metadata": {},
   "outputs": [],
   "source": [
    "# index = faiss.read_index(\"movies_info.index\")\n",
    "# index"
   ]
  },
  {
   "cell_type": "code",
   "execution_count": 41,
   "id": "7e9a1b66-7062-4b6b-b105-3ac5c8d8ef3f",
   "metadata": {},
   "outputs": [],
   "source": [
    "chunk_metadata = {\n",
    "    'chunks': chunks,\n",
    "    'source_index': chunk_source,\n",
    "    'titles': movies_df['Title'].iloc[chunk_source].values,\n",
    "    'movie_text': movies_df['movie_text'].iloc[chunk_source].values\n",
    "}\n",
    "import pickle\n",
    "with open('./data/chunks_metadata.pkl', 'wb') as f:\n",
    "    pickle.dump(chunk_metadata, f)"
   ]
  },
  {
   "cell_type": "code",
   "execution_count": null,
   "id": "b1fc7ee7-360f-48fb-9e05-76e21e9fb577",
   "metadata": {},
   "outputs": [],
   "source": []
  },
  {
   "cell_type": "code",
   "execution_count": 42,
   "id": "2bdd3af8-fdfc-47dd-a94b-37c18428c217",
   "metadata": {},
   "outputs": [],
   "source": [
    "query_embedding = model.encode(['space adventure'])\n",
    "\n",
    "distances, indices = index.search(query_embedding, 5)"
   ]
  },
  {
   "cell_type": "code",
   "execution_count": 43,
   "id": "bd8dbb65-4225-4ee3-8346-edcff07e044f",
   "metadata": {},
   "outputs": [
    {
     "data": {
      "text/plain": [
       "array([[28.258404, 29.332535, 29.83104 , 30.324926, 31.512108]],\n",
       "      dtype=float32)"
      ]
     },
     "execution_count": 43,
     "metadata": {},
     "output_type": "execute_result"
    }
   ],
   "source": [
    "distances"
   ]
  },
  {
   "cell_type": "code",
   "execution_count": 44,
   "id": "2d0b6b6e-cd7d-4c2e-833b-ffdae9a0b41d",
   "metadata": {},
   "outputs": [
    {
     "data": {
      "text/plain": [
       "array([[37389, 35590, 22737, 60258, 59478]])"
      ]
     },
     "execution_count": 44,
     "metadata": {},
     "output_type": "execute_result"
    }
   ],
   "source": [
    "indices"
   ]
  },
  {
   "cell_type": "code",
   "execution_count": null,
   "id": "0b3f7ecd-3aa3-4e91-af36-ecaa06b18199",
   "metadata": {},
   "outputs": [],
   "source": []
  }
 ],
 "metadata": {
  "kernelspec": {
   "display_name": "Python 3 (ipykernel)",
   "language": "python",
   "name": "python3"
  },
  "language_info": {
   "codemirror_mode": {
    "name": "ipython",
    "version": 3
   },
   "file_extension": ".py",
   "mimetype": "text/x-python",
   "name": "python",
   "nbconvert_exporter": "python",
   "pygments_lexer": "ipython3",
   "version": "3.11.5"
  }
 },
 "nbformat": 4,
 "nbformat_minor": 5
}
